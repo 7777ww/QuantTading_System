{
 "cells": [
  {
   "cell_type": "code",
   "execution_count": 4,
   "metadata": {},
   "outputs": [],
   "source": [
    "from quant.db import get_data_from_mongo_with_time_range,connect_to_mongo_db\n",
    "from config import  uri"
   ]
  },
  {
   "cell_type": "code",
   "execution_count": 5,
   "metadata": {},
   "outputs": [
    {
     "name": "stdout",
     "output_type": "stream",
     "text": [
      "             open_time           close_time interval   symbol          close  \\\n",
      "0  2024-07-07 00:00:00  2024-07-07 23:59:59       1d  ETHUSDT  2931.00000000   \n",
      "1  2024-07-08 00:00:00  2024-07-08 23:59:59       1d  ETHUSDT  3019.01000000   \n",
      "\n",
      "            high            low           open           volume  \n",
      "0  3073.08000000  2922.24000000  3066.83000000  179892.76120000  \n",
      "1  3097.06000000  2822.80000000  2930.99000000  500445.01050000  \n"
     ]
    }
   ],
   "source": [
    "db=connect_to_mongo_db(uri, \"Quant\")\n",
    "collection=db[\"OHLCV\"]\n",
    "target=get_data_from_mongo_with_time_range(collection,\"ETHUSDT\",\"1d\",\"2024-7-7\",\"2024-7-9\")\n",
    "print(target)"
   ]
  }
 ],
 "metadata": {
  "kernelspec": {
   "display_name": "Python 3.9.7 ('base')",
   "language": "python",
   "name": "python3"
  },
  "language_info": {
   "codemirror_mode": {
    "name": "ipython",
    "version": 3
   },
   "file_extension": ".py",
   "mimetype": "text/x-python",
   "name": "python",
   "nbconvert_exporter": "python",
   "pygments_lexer": "ipython3",
   "version": "3.9.7"
  },
  "orig_nbformat": 4,
  "vscode": {
   "interpreter": {
    "hash": "7e23788312c87ba23874194b20f5a6c10b40b10d1aeabc001ed45d1937ddc3fd"
   }
  }
 },
 "nbformat": 4,
 "nbformat_minor": 2
}
