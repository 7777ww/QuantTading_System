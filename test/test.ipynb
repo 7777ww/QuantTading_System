{
 "cells": [
  {
   "cell_type": "code",
   "execution_count": 4,
   "metadata": {},
   "outputs": [],
   "source": [
    "!export PYTHONPATH=\"${PYTHONPATH}:/Users/caibinghong/QuantTraning_System\"\n"
   ]
  },
  {
   "cell_type": "code",
   "execution_count": 7,
   "metadata": {},
   "outputs": [
    {
     "ename": "ModuleNotFoundError",
     "evalue": "No module named 'quant'",
     "output_type": "error",
     "traceback": [
      "\u001b[0;31m---------------------------------------------------------------------------\u001b[0m",
      "\u001b[0;31mModuleNotFoundError\u001b[0m                       Traceback (most recent call last)",
      "\u001b[0;32m/var/folders/3r/8xx4y7457hq9mdb1w_66qdww0000gn/T/ipykernel_57486/2415859599.py\u001b[0m in \u001b[0;36m<module>\u001b[0;34m\u001b[0m\n\u001b[0;32m----> 1\u001b[0;31m \u001b[0;32mfrom\u001b[0m \u001b[0mquant\u001b[0m\u001b[0;34m.\u001b[0m\u001b[0mmongodb\u001b[0m \u001b[0;32mimport\u001b[0m  \u001b[0mConnectDB\u001b[0m\u001b[0;34m\u001b[0m\u001b[0;34m\u001b[0m\u001b[0m\n\u001b[0m",
      "\u001b[0;31mModuleNotFoundError\u001b[0m: No module named 'quant'"
     ]
    }
   ],
   "source": [
    "from quant.mongodb import  ConnectDB"
   ]
  },
  {
   "cell_type": "code",
   "execution_count": 11,
   "metadata": {},
   "outputs": [],
   "source": [
    "a = [(2, 0), (7, 1), (11, 2), (15, 3)]\n",
    "j=1"
   ]
  },
  {
   "cell_type": "code",
   "execution_count": 27,
   "metadata": {},
   "outputs": [
    {
     "name": "stdout",
     "output_type": "stream",
     "text": [
      "2\n",
      "[0, 2]\n",
      "1\n",
      "[1, 1]\n",
      "1\n",
      "[2, 1]\n",
      "0\n",
      "[3, 0]\n"
     ]
    }
   ],
   "source": [
    "target=13\n",
    "from bisect import bisect_left\n",
    "for p,i in a:\n",
    "            j = bisect_left(a,(target-p,i+1))\n",
    "            print(j)\n",
    "            print( [i, a[j][1]])"
   ]
  }
 ],
 "metadata": {
  "kernelspec": {
   "display_name": "Python 3.9.7 ('base')",
   "language": "python",
   "name": "python3"
  },
  "language_info": {
   "codemirror_mode": {
    "name": "ipython",
    "version": 3
   },
   "file_extension": ".py",
   "mimetype": "text/x-python",
   "name": "python",
   "nbconvert_exporter": "python",
   "pygments_lexer": "ipython3",
   "version": "3.9.7"
  },
  "orig_nbformat": 4,
  "vscode": {
   "interpreter": {
    "hash": "7e23788312c87ba23874194b20f5a6c10b40b10d1aeabc001ed45d1937ddc3fd"
   }
  }
 },
 "nbformat": 4,
 "nbformat_minor": 2
}
